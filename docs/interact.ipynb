{
 "cells": [
  {
   "cell_type": "markdown",
   "metadata": {},
   "source": [
    "# edexplore.interact"
   ]
  },
  {
   "cell_type": "markdown",
   "metadata": {},
   "source": [
    "## edexplore.interact([pd.DataFrame](https://pandas.pydata.org/docs/reference/api/pandas.DataFrame.html#pandas.DataFrame))"
   ]
  },
  {
   "cell_type": "markdown",
   "metadata": {},
   "source": [
    "<img src=\"../docs/images/Screenshot001.png\" alt=\"function\">   "
   ]
  },
  {
   "cell_type": "markdown",
   "metadata": {},
   "source": [
    "### The Sample Button"
   ]
  },
  {
   "cell_type": "markdown",
   "metadata": {},
   "source": [
    "The sample button prints a _readable_ random sample from the dataframe.    \n",
    "If conditions are applied and there are results, then sample is from that resulted subset.   \n",
    "    \n",
    "<img src=\"../docs/images/Screenshot00101.png\" alt=\"readable sample\">"
   ]
  },
  {
   "cell_type": "markdown",
   "metadata": {},
   "source": [
    "### The First Box "
   ]
  },
  {
   "cell_type": "markdown",
   "metadata": {},
   "source": [
    "<img src=\"../docs/images/Screenshot00102.png\" alt=\"first box\">   \n",
    "    \n",
    "The first box shows column names with commonly used Pandas functions.     \n",
    "They are [isnull](https://pandas.pydata.org/docs/reference/api/pandas.isnull.html), [notnull](https://pandas.pydata.org/docs/reference/api/pandas.notnull.html), and [is duplicated](https://pandas.pydata.org/docs/reference/api/pandas.DataFrame.duplicated.html). We can also [drop duplicates](https://pandas.pydata.org/docs/reference/api/pandas.DataFrame.drop_duplicates.html) to look at the unique rows.   \n",
    "    \n",
    "<mark>We can always select more than one column to apply these conditions `Ctrl + Select` !</mark>   \n",
    "   \n",
    "<img src=\"../docs/images/DropDuplicates.png\" alt=\"drop duplicates\">   "
   ]
  },
  {
   "cell_type": "markdown",
   "metadata": {},
   "source": [
    "### The Second Box"
   ]
  },
  {
   "cell_type": "markdown",
   "metadata": {},
   "source": [
    "<img src=\"../docs/images/Screenshot00103.png\" alt=\"second box\">   \n",
    "    \n",
    "This box is to apply regular expressions on specific columns.     \n",
    "The intention is to look for the pattern/format exceptions, at least approximately.     \n",
    "     \n",
    "These are the available regex - `is string`, `is numeric`,      \n",
    "`suspicious str.`, `extra spaces`, `lead./trail. spaces`,     \n",
    "`missing spaces`, `html tags`, `unicode char.`, `is not null`.     \n",
    "\n",
    "<mark>Again, we can select more than one column to apply any of these conditions.</mark>"
   ]
  },
  {
   "cell_type": "markdown",
   "metadata": {},
   "source": [
    "### The Third Box"
   ]
  },
  {
   "cell_type": "markdown",
   "metadata": {},
   "source": [
    "<img src=\"../docs/images/Screenshot00104.png\" alt=\"third box\">   \n",
    "\n",
    "This box will help apply two different slider conditions to a column of our choice.    \n",
    "The `String Length` slider helps sample over the range of lowest to the highest values by _length of value_.      \n",
    "The `Numeric Range` slider is to sample over the range of lowest to the highest _number_ for any column with numbers.    \n",
    "\n",
    "This function may not be efficient for small datasets though!    "
   ]
  },
  {
   "cell_type": "markdown",
   "metadata": {},
   "source": [
    "_Enjoy using this function! Feel free to give feedback and your support - NPV :)_"
   ]
  },
  {
   "cell_type": "code",
   "execution_count": null,
   "metadata": {},
   "outputs": [],
   "source": []
  },
  {
   "cell_type": "code",
   "execution_count": null,
   "metadata": {},
   "outputs": [],
   "source": []
  }
 ],
 "metadata": {
  "kernelspec": {
   "display_name": "Python 3 (ipykernel)",
   "language": "python",
   "name": "python3"
  },
  "language_info": {
   "codemirror_mode": {
    "name": "ipython",
    "version": 3
   },
   "file_extension": ".py",
   "mimetype": "text/x-python",
   "name": "python",
   "nbconvert_exporter": "python",
   "pygments_lexer": "ipython3",
   "version": "3.10.11"
  },
  "widgets": {
   "application/vnd.jupyter.widget-state+json": {
    "state": {},
    "version_major": 2,
    "version_minor": 0
   }
  }
 },
 "nbformat": 4,
 "nbformat_minor": 4
}
